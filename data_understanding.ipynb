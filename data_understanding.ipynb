{
 "cells": [
  {
   "cell_type": "code",
   "execution_count": 1,
   "outputs": [
    {
     "name": "stdout",
     "text": [
      "Pocet riadkov v datasete: 362237\nPocet Nan hodnot song          2\nyear          0\nartist        0\ngenre         0\nlyrics    95680\ndtype: int64\n"
     ],
     "output_type": "stream"
    }
   ],
   "source": [
    "import pandas as pd\n",
    "df = pd.read_csv('lyrics.csv', sep=',')\n",
    "print(\"Pocet riadkov v datasete: {:}\".format(len(df)))\n",
    "print(\"Pocet Nan hodnot\", df.isna().sum())"
   ],
   "metadata": {
    "collapsed": false,
    "pycharm": {
     "name": "#%%\n",
     "is_executing": false
    }
   }
  },
  {
   "cell_type": "markdown",
   "source": [
    "Vymazeme riadky s *nan* hodnotami"
   ],
   "metadata": {
    "collapsed": false
   }
  },
  {
   "cell_type": "code",
   "execution_count": 2,
   "outputs": [
    {
     "name": "stdout",
     "text": [
      "Pocet riadkov v datasete (bez Nan): 266556\n"
     ],
     "output_type": "stream"
    }
   ],
   "source": [
    "df = df.dropna(axis=0, how='any')\n",
    "print(\"Pocet riadkov v datasete (bez Nan): {:}\".format(len(df)))"
   ],
   "metadata": {
    "collapsed": false,
    "pycharm": {
     "name": "#%%\n",
     "is_executing": false
    }
   }
  },
  {
   "cell_type": "markdown",
   "source": [
    "Chceme iba pesnicky s anglickymi textami, teda vymazeme vsetky ktore podmienku nesplnaju"
   ],
   "metadata": {
    "collapsed": false
   }
  },
  {
   "cell_type": "code",
   "execution_count": 3,
   "outputs": [
    {
     "name": "stdout",
     "text": [
      "Pocet riadkov v datasete (iba anglicke): 217714\n              song  year           artist genre  \\\n0        ego-remix  2009  beyonce-knowles   Pop   \n1     then-tell-me  2009  beyonce-knowles   Pop   \n2          honesty  2009  beyonce-knowles   Pop   \n3  you-are-my-rock  2009  beyonce-knowles   Pop   \n4    black-culture  2009  beyonce-knowles   Pop   \n\n                                              lyrics  \n0  Oh baby, how you doing?\\nYou know I'm gonna cu...  \n1  playin' everything so easy,\\nit's like you see...  \n2  If you search\\nFor tenderness\\nIt isn't hard t...  \n3  Oh oh oh I, oh oh oh I\\n[Verse 1:]\\nIf I wrote...  \n4  Party the people, the people the party it's po...  \n"
     ],
     "output_type": "stream"
    }
   ],
   "source": [
    "df = pd.read_csv('lyrics_cleaned.csv', sep=',')\n",
    "print(\"Pocet riadkov v datasete (iba anglicke): {:}\".format(len(df)))\n",
    "print(df.head())"
   ],
   "metadata": {
    "collapsed": false,
    "pycharm": {
     "name": "#%%\n",
     "is_executing": false
    }
   }
  },
  {
   "cell_type": "markdown",
   "source": [
    "Odstranime riadky ktore maju ako zaner Not Available."
   ],
   "metadata": {
    "collapsed": false
   }
  },
  {
   "cell_type": "code",
   "execution_count": 4,
   "outputs": [],
   "source": [
    "df = df[df.genre != 'Not Available']"
   ],
   "metadata": {
    "collapsed": false,
    "pycharm": {
     "name": "#%%\n",
     "is_executing": false
    }
   }
  },
  {
   "cell_type": "markdown",
   "source": [
    "Barplot - zanre a roky"
   ],
   "metadata": {
    "collapsed": false
   }
  },
  {
   "cell_type": "code",
   "execution_count": 5,
   "outputs": [
    {
     "data": {
      "text/plain": "<Figure size 432x288 with 1 Axes>",
      "image/png": "[encoded data removed]"
     },
     "metadata": {
      "needs_background": "light"
     },
     "output_type": "display_data"
    }
   ],
   "source": [
    "def genre_bar(df):\n",
    "    df['genre'].value_counts().plot(kind='bar')\n",
    "\n",
    "genre_bar(df)"
   ],
   "metadata": {
    "collapsed": false,
    "pycharm": {
     "name": "#%%\n",
     "is_executing": false
    }
   }
  }
 ],
 "metadata": {
  "kernelspec": {
   "display_name": "Python 3",
   "language": "python",
   "name": "python3"
  },
  "language_info": {
   "codemirror_mode": {
    "name": "ipython",
    "version": 2
   },
   "file_extension": ".py",
   "mimetype": "text/x-python",
   "name": "python",
   "nbconvert_exporter": "python",
   "pygments_lexer": "ipython2",
   "version": "2.7.6"
  },
  "pycharm": {
   "stem_cell": {
    "cell_type": "raw",
    "source": [],
    "metadata": {
     "collapsed": false
    }
   }
  }
 },
 "nbformat": 4,
 "nbformat_minor": 0
}